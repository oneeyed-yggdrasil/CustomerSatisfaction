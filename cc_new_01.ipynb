{
  "cells": [
    {
      "cell_type": "markdown",
      "metadata": {},
      "source": [
        "# Importing Necessary Libraries"
      ]
    },
    {
      "cell_type": "code",
      "execution_count": null,
      "metadata": {},
      "outputs": [],
      "source": []
    },
    {
      "cell_type": "code",
      "execution_count": null,
      "metadata": {},
      "outputs": [],
      "source": []
    },
    {
      "cell_type": "code",
      "execution_count": null,
      "metadata": {},
      "outputs": [],
      "source": []
    },
    {
      "cell_type": "code",
      "execution_count": 1,
      "metadata": {},
      "outputs": [],
      "source": [
        "import pandas as pd\n",
        "import matplotlib.pyplot as plt\n",
        "import seaborn as sns"
      ]
    },
    {
      "cell_type": "markdown",
      "metadata": {},
      "source": [
        "# Importing the Telecom customer churn dataset"
      ]
    },
    {
      "cell_type": "code",
      "execution_count": 2,
      "metadata": {},
      "outputs": [
        {
          "data": {
            "text/html": [
              "<div>\n",
              "<style scoped>\n",
              "    .dataframe tbody tr th:only-of-type {\n",
              "        vertical-align: middle;\n",
              "    }\n",
              "\n",
              "    .dataframe tbody tr th {\n",
              "        vertical-align: top;\n",
              "    }\n",
              "\n",
              "    .dataframe thead th {\n",
              "        text-align: right;\n",
              "    }\n",
              "</style>\n",
              "<table border=\"1\" class=\"dataframe\">\n",
              "  <thead>\n",
              "    <tr style=\"text-align: right;\">\n",
              "      <th></th>\n",
              "      <th>CustomerID</th>\n",
              "      <th>Gender</th>\n",
              "      <th>Senior_Citizen</th>\n",
              "      <th>Partner</th>\n",
              "      <th>Dependents</th>\n",
              "      <th>Tenure</th>\n",
              "      <th>Service_type</th>\n",
              "      <th>Multiple_Lines</th>\n",
              "      <th>Internet_Service_type</th>\n",
              "      <th>Online_Security</th>\n",
              "      <th>...</th>\n",
              "      <th>Monthly_Charges</th>\n",
              "      <th>Total_Charges</th>\n",
              "      <th>Number_of_Referrals</th>\n",
              "      <th>Offer</th>\n",
              "      <th>Avg_Monthly_Long_Distance_Charges</th>\n",
              "      <th>Avg_Monthly_GB_Download</th>\n",
              "      <th>Upgraded_to_Unlimited_Data</th>\n",
              "      <th>Total_Long_Distance_Charges</th>\n",
              "      <th>Total_Revenue</th>\n",
              "      <th>Churn</th>\n",
              "    </tr>\n",
              "  </thead>\n",
              "  <tbody>\n",
              "    <tr>\n",
              "      <th>0</th>\n",
              "      <td>0002-ORFBO</td>\n",
              "      <td>Female</td>\n",
              "      <td>0</td>\n",
              "      <td>Yes</td>\n",
              "      <td>Yes</td>\n",
              "      <td>9</td>\n",
              "      <td>Phone Service</td>\n",
              "      <td>No</td>\n",
              "      <td>Cable</td>\n",
              "      <td>No</td>\n",
              "      <td>...</td>\n",
              "      <td>65.60</td>\n",
              "      <td>593.30</td>\n",
              "      <td>2</td>\n",
              "      <td>No</td>\n",
              "      <td>42.39</td>\n",
              "      <td>16</td>\n",
              "      <td>Yes</td>\n",
              "      <td>381.51</td>\n",
              "      <td>974.81</td>\n",
              "      <td>No</td>\n",
              "    </tr>\n",
              "    <tr>\n",
              "      <th>1</th>\n",
              "      <td>0003-MKNFE</td>\n",
              "      <td>Male</td>\n",
              "      <td>0</td>\n",
              "      <td>No</td>\n",
              "      <td>No</td>\n",
              "      <td>9</td>\n",
              "      <td>Phone Service</td>\n",
              "      <td>Yes</td>\n",
              "      <td>Cable</td>\n",
              "      <td>No</td>\n",
              "      <td>...</td>\n",
              "      <td>59.90</td>\n",
              "      <td>542.40</td>\n",
              "      <td>0</td>\n",
              "      <td>No</td>\n",
              "      <td>10.69</td>\n",
              "      <td>10</td>\n",
              "      <td>No</td>\n",
              "      <td>96.21</td>\n",
              "      <td>610.28</td>\n",
              "      <td>No</td>\n",
              "    </tr>\n",
              "    <tr>\n",
              "      <th>2</th>\n",
              "      <td>0004-TLHLJ</td>\n",
              "      <td>Male</td>\n",
              "      <td>0</td>\n",
              "      <td>No</td>\n",
              "      <td>No</td>\n",
              "      <td>4</td>\n",
              "      <td>Phone Service</td>\n",
              "      <td>No</td>\n",
              "      <td>Fiber Optic</td>\n",
              "      <td>No</td>\n",
              "      <td>...</td>\n",
              "      <td>73.90</td>\n",
              "      <td>280.85</td>\n",
              "      <td>0</td>\n",
              "      <td>Offer E</td>\n",
              "      <td>33.65</td>\n",
              "      <td>30</td>\n",
              "      <td>Yes</td>\n",
              "      <td>134.60</td>\n",
              "      <td>415.45</td>\n",
              "      <td>Yes</td>\n",
              "    </tr>\n",
              "    <tr>\n",
              "      <th>3</th>\n",
              "      <td>0011-IGKFF</td>\n",
              "      <td>Male</td>\n",
              "      <td>1</td>\n",
              "      <td>Yes</td>\n",
              "      <td>No</td>\n",
              "      <td>13</td>\n",
              "      <td>Phone Service</td>\n",
              "      <td>No</td>\n",
              "      <td>Fiber Optic</td>\n",
              "      <td>No</td>\n",
              "      <td>...</td>\n",
              "      <td>98.00</td>\n",
              "      <td>1237.85</td>\n",
              "      <td>1</td>\n",
              "      <td>Offer D</td>\n",
              "      <td>27.82</td>\n",
              "      <td>4</td>\n",
              "      <td>Yes</td>\n",
              "      <td>361.66</td>\n",
              "      <td>1599.51</td>\n",
              "      <td>Yes</td>\n",
              "    </tr>\n",
              "    <tr>\n",
              "      <th>4</th>\n",
              "      <td>0013-EXCHZ</td>\n",
              "      <td>Female</td>\n",
              "      <td>1</td>\n",
              "      <td>Yes</td>\n",
              "      <td>No</td>\n",
              "      <td>3</td>\n",
              "      <td>Phone Service</td>\n",
              "      <td>No</td>\n",
              "      <td>Fiber Optic</td>\n",
              "      <td>No</td>\n",
              "      <td>...</td>\n",
              "      <td>83.90</td>\n",
              "      <td>267.40</td>\n",
              "      <td>3</td>\n",
              "      <td>No</td>\n",
              "      <td>7.38</td>\n",
              "      <td>11</td>\n",
              "      <td>Yes</td>\n",
              "      <td>22.14</td>\n",
              "      <td>289.54</td>\n",
              "      <td>Yes</td>\n",
              "    </tr>\n",
              "    <tr>\n",
              "      <th>...</th>\n",
              "      <td>...</td>\n",
              "      <td>...</td>\n",
              "      <td>...</td>\n",
              "      <td>...</td>\n",
              "      <td>...</td>\n",
              "      <td>...</td>\n",
              "      <td>...</td>\n",
              "      <td>...</td>\n",
              "      <td>...</td>\n",
              "      <td>...</td>\n",
              "      <td>...</td>\n",
              "      <td>...</td>\n",
              "      <td>...</td>\n",
              "      <td>...</td>\n",
              "      <td>...</td>\n",
              "      <td>...</td>\n",
              "      <td>...</td>\n",
              "      <td>...</td>\n",
              "      <td>...</td>\n",
              "      <td>...</td>\n",
              "      <td>...</td>\n",
              "    </tr>\n",
              "    <tr>\n",
              "      <th>7038</th>\n",
              "      <td>9987-LUTYD</td>\n",
              "      <td>Female</td>\n",
              "      <td>0</td>\n",
              "      <td>No</td>\n",
              "      <td>No</td>\n",
              "      <td>13</td>\n",
              "      <td>Phone Service</td>\n",
              "      <td>No</td>\n",
              "      <td>DSL</td>\n",
              "      <td>Yes</td>\n",
              "      <td>...</td>\n",
              "      <td>55.15</td>\n",
              "      <td>742.90</td>\n",
              "      <td>0</td>\n",
              "      <td>Offer D</td>\n",
              "      <td>46.68</td>\n",
              "      <td>59</td>\n",
              "      <td>Yes</td>\n",
              "      <td>606.84</td>\n",
              "      <td>1349.74</td>\n",
              "      <td>No</td>\n",
              "    </tr>\n",
              "    <tr>\n",
              "      <th>7039</th>\n",
              "      <td>9992-RRAMN</td>\n",
              "      <td>Male</td>\n",
              "      <td>0</td>\n",
              "      <td>Yes</td>\n",
              "      <td>No</td>\n",
              "      <td>22</td>\n",
              "      <td>Phone Service</td>\n",
              "      <td>Yes</td>\n",
              "      <td>Fiber Optic</td>\n",
              "      <td>No</td>\n",
              "      <td>...</td>\n",
              "      <td>85.10</td>\n",
              "      <td>1873.70</td>\n",
              "      <td>1</td>\n",
              "      <td>Offer D</td>\n",
              "      <td>16.20</td>\n",
              "      <td>17</td>\n",
              "      <td>Yes</td>\n",
              "      <td>356.40</td>\n",
              "      <td>2230.10</td>\n",
              "      <td>Yes</td>\n",
              "    </tr>\n",
              "    <tr>\n",
              "      <th>7040</th>\n",
              "      <td>9992-UJOEL</td>\n",
              "      <td>Male</td>\n",
              "      <td>0</td>\n",
              "      <td>No</td>\n",
              "      <td>No</td>\n",
              "      <td>2</td>\n",
              "      <td>Phone Service</td>\n",
              "      <td>No</td>\n",
              "      <td>DSL</td>\n",
              "      <td>No</td>\n",
              "      <td>...</td>\n",
              "      <td>50.30</td>\n",
              "      <td>92.75</td>\n",
              "      <td>0</td>\n",
              "      <td>Offer E</td>\n",
              "      <td>18.62</td>\n",
              "      <td>51</td>\n",
              "      <td>Yes</td>\n",
              "      <td>37.24</td>\n",
              "      <td>129.99</td>\n",
              "      <td>No</td>\n",
              "    </tr>\n",
              "    <tr>\n",
              "      <th>7041</th>\n",
              "      <td>9993-LHIEB</td>\n",
              "      <td>Male</td>\n",
              "      <td>0</td>\n",
              "      <td>Yes</td>\n",
              "      <td>Yes</td>\n",
              "      <td>67</td>\n",
              "      <td>Phone Service</td>\n",
              "      <td>No</td>\n",
              "      <td>Cable</td>\n",
              "      <td>Yes</td>\n",
              "      <td>...</td>\n",
              "      <td>67.85</td>\n",
              "      <td>4627.65</td>\n",
              "      <td>5</td>\n",
              "      <td>Offer A</td>\n",
              "      <td>2.12</td>\n",
              "      <td>58</td>\n",
              "      <td>Yes</td>\n",
              "      <td>142.04</td>\n",
              "      <td>4769.69</td>\n",
              "      <td>No</td>\n",
              "    </tr>\n",
              "    <tr>\n",
              "      <th>7042</th>\n",
              "      <td>9995-HOTOH</td>\n",
              "      <td>Male</td>\n",
              "      <td>0</td>\n",
              "      <td>Yes</td>\n",
              "      <td>Yes</td>\n",
              "      <td>63</td>\n",
              "      <td>Internet Service</td>\n",
              "      <td>No phone service</td>\n",
              "      <td>Cable</td>\n",
              "      <td>Yes</td>\n",
              "      <td>...</td>\n",
              "      <td>59.00</td>\n",
              "      <td>3707.60</td>\n",
              "      <td>1</td>\n",
              "      <td>No</td>\n",
              "      <td>0.00</td>\n",
              "      <td>5</td>\n",
              "      <td>Yes</td>\n",
              "      <td>0.00</td>\n",
              "      <td>3707.60</td>\n",
              "      <td>No</td>\n",
              "    </tr>\n",
              "  </tbody>\n",
              "</table>\n",
              "<p>7043 rows × 28 columns</p>\n",
              "</div>"
            ],
            "text/plain": [
              "      CustomerID  Gender  Senior_Citizen Partner Dependents  Tenure  \\\n",
              "0     0002-ORFBO  Female               0     Yes        Yes       9   \n",
              "1     0003-MKNFE    Male               0      No         No       9   \n",
              "2     0004-TLHLJ    Male               0      No         No       4   \n",
              "3     0011-IGKFF    Male               1     Yes         No      13   \n",
              "4     0013-EXCHZ  Female               1     Yes         No       3   \n",
              "...          ...     ...             ...     ...        ...     ...   \n",
              "7038  9987-LUTYD  Female               0      No         No      13   \n",
              "7039  9992-RRAMN    Male               0     Yes         No      22   \n",
              "7040  9992-UJOEL    Male               0      No         No       2   \n",
              "7041  9993-LHIEB    Male               0     Yes        Yes      67   \n",
              "7042  9995-HOTOH    Male               0     Yes        Yes      63   \n",
              "\n",
              "          Service_type    Multiple_Lines Internet_Service_type  \\\n",
              "0        Phone Service                No                 Cable   \n",
              "1        Phone Service               Yes                 Cable   \n",
              "2        Phone Service                No           Fiber Optic   \n",
              "3        Phone Service                No           Fiber Optic   \n",
              "4        Phone Service                No           Fiber Optic   \n",
              "...                ...               ...                   ...   \n",
              "7038     Phone Service                No                   DSL   \n",
              "7039     Phone Service               Yes           Fiber Optic   \n",
              "7040     Phone Service                No                   DSL   \n",
              "7041     Phone Service                No                 Cable   \n",
              "7042  Internet Service  No phone service                 Cable   \n",
              "\n",
              "     Online_Security  ... Monthly_Charges Total_Charges Number_of_Referrals  \\\n",
              "0                 No  ...           65.60        593.30                   2   \n",
              "1                 No  ...           59.90        542.40                   0   \n",
              "2                 No  ...           73.90        280.85                   0   \n",
              "3                 No  ...           98.00       1237.85                   1   \n",
              "4                 No  ...           83.90        267.40                   3   \n",
              "...              ...  ...             ...           ...                 ...   \n",
              "7038             Yes  ...           55.15        742.90                   0   \n",
              "7039              No  ...           85.10       1873.70                   1   \n",
              "7040              No  ...           50.30         92.75                   0   \n",
              "7041             Yes  ...           67.85       4627.65                   5   \n",
              "7042             Yes  ...           59.00       3707.60                   1   \n",
              "\n",
              "        Offer Avg_Monthly_Long_Distance_Charges Avg_Monthly_GB_Download  \\\n",
              "0          No                             42.39                      16   \n",
              "1          No                             10.69                      10   \n",
              "2     Offer E                             33.65                      30   \n",
              "3     Offer D                             27.82                       4   \n",
              "4          No                              7.38                      11   \n",
              "...       ...                               ...                     ...   \n",
              "7038  Offer D                             46.68                      59   \n",
              "7039  Offer D                             16.20                      17   \n",
              "7040  Offer E                             18.62                      51   \n",
              "7041  Offer A                              2.12                      58   \n",
              "7042       No                              0.00                       5   \n",
              "\n",
              "     Upgraded_to_Unlimited_Data Total_Long_Distance_Charges  Total_Revenue  \\\n",
              "0                           Yes                      381.51         974.81   \n",
              "1                            No                       96.21         610.28   \n",
              "2                           Yes                      134.60         415.45   \n",
              "3                           Yes                      361.66        1599.51   \n",
              "4                           Yes                       22.14         289.54   \n",
              "...                         ...                         ...            ...   \n",
              "7038                        Yes                      606.84        1349.74   \n",
              "7039                        Yes                      356.40        2230.10   \n",
              "7040                        Yes                       37.24         129.99   \n",
              "7041                        Yes                      142.04        4769.69   \n",
              "7042                        Yes                        0.00        3707.60   \n",
              "\n",
              "      Churn  \n",
              "0        No  \n",
              "1        No  \n",
              "2       Yes  \n",
              "3       Yes  \n",
              "4       Yes  \n",
              "...     ...  \n",
              "7038     No  \n",
              "7039    Yes  \n",
              "7040     No  \n",
              "7041     No  \n",
              "7042     No  \n",
              "\n",
              "[7043 rows x 28 columns]"
            ]
          },
          "execution_count": 2,
          "metadata": {},
          "output_type": "execute_result"
        }
      ],
      "source": [
        "df = pd.read_csv(\"final_dataset/customer churn_new.csv\") \n",
        "\n",
        "df"
      ]
    },
    {
      "cell_type": "markdown",
      "metadata": {},
      "source": [
        "# Data Pre-Processing"
      ]
    },
    {
      "cell_type": "markdown",
      "metadata": {},
      "source": [
        "##### We are checking the  number of rows and columns in the dataset, and whether there are any null or missing values, number of unique customer id's, datatype of the customer id"
      ]
    },
    {
      "cell_type": "code",
      "execution_count": 3,
      "metadata": {},
      "outputs": [
        {
          "name": "stdout",
          "output_type": "stream",
          "text": [
            "<class 'pandas.core.frame.DataFrame'>\n",
            "RangeIndex: 7043 entries, 0 to 7042\n",
            "Data columns (total 28 columns):\n",
            " #   Column                             Non-Null Count  Dtype  \n",
            "---  ------                             --------------  -----  \n",
            " 0   CustomerID                         7043 non-null   object \n",
            " 1   Gender                             7043 non-null   object \n",
            " 2   Senior_Citizen                     7043 non-null   int64  \n",
            " 3   Partner                            7043 non-null   object \n",
            " 4   Dependents                         7043 non-null   object \n",
            " 5   Tenure                             7043 non-null   int64  \n",
            " 6   Service_type                       7043 non-null   object \n",
            " 7   Multiple_Lines                     7043 non-null   object \n",
            " 8   Internet_Service_type              7043 non-null   object \n",
            " 9   Online_Security                    7043 non-null   object \n",
            " 10  Online_Backup                      7043 non-null   object \n",
            " 11  Device_Protection                  7043 non-null   object \n",
            " 12  Tech_Support                       7043 non-null   object \n",
            " 13  Streaming_TV                       7043 non-null   object \n",
            " 14  Streaming_Movies                   7043 non-null   object \n",
            " 15  Contract                           7043 non-null   object \n",
            " 16  Paperless_Billing                  7043 non-null   object \n",
            " 17  Payment_Method                     7043 non-null   object \n",
            " 18  Monthly_Charges                    7043 non-null   float64\n",
            " 19  Total_Charges                      7043 non-null   float64\n",
            " 20  Number_of_Referrals                7043 non-null   int64  \n",
            " 21  Offer                              7043 non-null   object \n",
            " 22  Avg_Monthly_Long_Distance_Charges  7043 non-null   float64\n",
            " 23  Avg_Monthly_GB_Download            7043 non-null   int64  \n",
            " 24  Upgraded_to_Unlimited_Data         7043 non-null   object \n",
            " 25  Total_Long_Distance_Charges        7043 non-null   float64\n",
            " 26  Total_Revenue                      7043 non-null   float64\n",
            " 27  Churn                              7043 non-null   object \n",
            "dtypes: float64(5), int64(4), object(19)\n",
            "memory usage: 1.5+ MB\n"
          ]
        }
      ],
      "source": [
        "df.info()"
      ]
    },
    {
      "cell_type": "markdown",
      "metadata": {},
      "source": [
        "There are 7043 rows and 28 columns in this dataset"
      ]
    },
    {
      "cell_type": "code",
      "execution_count": 4,
      "metadata": {},
      "outputs": [
        {
          "data": {
            "text/plain": [
              "(7043, 28)"
            ]
          },
          "execution_count": 4,
          "metadata": {},
          "output_type": "execute_result"
        }
      ],
      "source": [
        "df.shape"
      ]
    },
    {
      "cell_type": "markdown",
      "metadata": {},
      "source": [
        "There are no null values in the dataset"
      ]
    },
    {
      "cell_type": "code",
      "execution_count": 5,
      "id": "f68b6206",
      "metadata": {
        "id": "f68b6206",
        "outputId": "e39d2e5a-74ce-4b20-b2ff-19e3aea943d2"
      },
      "outputs": [
        {
          "data": {
            "text/plain": [
              "CustomerID                           0\n",
              "Gender                               0\n",
              "Senior_Citizen                       0\n",
              "Partner                              0\n",
              "Dependents                           0\n",
              "Tenure                               0\n",
              "Service_type                         0\n",
              "Multiple_Lines                       0\n",
              "Internet_Service_type                0\n",
              "Online_Security                      0\n",
              "Online_Backup                        0\n",
              "Device_Protection                    0\n",
              "Tech_Support                         0\n",
              "Streaming_TV                         0\n",
              "Streaming_Movies                     0\n",
              "Contract                             0\n",
              "Paperless_Billing                    0\n",
              "Payment_Method                       0\n",
              "Monthly_Charges                      0\n",
              "Total_Charges                        0\n",
              "Number_of_Referrals                  0\n",
              "Offer                                0\n",
              "Avg_Monthly_Long_Distance_Charges    0\n",
              "Avg_Monthly_GB_Download              0\n",
              "Upgraded_to_Unlimited_Data           0\n",
              "Total_Long_Distance_Charges          0\n",
              "Total_Revenue                        0\n",
              "Churn                                0\n",
              "dtype: int64"
            ]
          },
          "execution_count": 5,
          "metadata": {},
          "output_type": "execute_result"
        }
      ],
      "source": [
        "# we are checking if we have any null values in the rows by using the isnull() func.\n",
        "\n",
        "df.isnull().sum()"
      ]
    },
    {
      "cell_type": "markdown",
      "metadata": {},
      "source": [
        "There are 7043 unique customers"
      ]
    },
    {
      "cell_type": "code",
      "execution_count": 6,
      "id": "45da60b1",
      "metadata": {
        "id": "45da60b1",
        "outputId": "b315bece-273e-4391-dad1-60e086801a47"
      },
      "outputs": [
        {
          "data": {
            "text/plain": [
              "7043"
            ]
          },
          "execution_count": 6,
          "metadata": {},
          "output_type": "execute_result"
        }
      ],
      "source": [
        "len(df.CustomerID.unique())"
      ]
    },
    {
      "cell_type": "code",
      "execution_count": 7,
      "id": "8a5e5f67",
      "metadata": {
        "id": "8a5e5f67",
        "outputId": "6e0b0538-cf12-4174-8acb-0576f8dda344"
      },
      "outputs": [
        {
          "data": {
            "text/plain": [
              "dtype('O')"
            ]
          },
          "execution_count": 7,
          "metadata": {},
          "output_type": "execute_result"
        }
      ],
      "source": [
        "df.CustomerID.dtype"
      ]
    },
    {
      "cell_type": "markdown",
      "metadata": {},
      "source": [
        "---> We are now converting the datatype of the customer id column from Int to String.\n",
        "---> Number of categories in the column gender and datatype of the same are identified.\n",
        "---> we are checking the number of senior citizens by using len function.\n",
        "---> And we are doing a similar operation for converting the datatype of Gender."
      ]
    },
    {
      "cell_type": "code",
      "execution_count": 8,
      "id": "9c8458a0",
      "metadata": {
        "id": "9c8458a0"
      },
      "outputs": [],
      "source": [
        "df.CustomerID = df.CustomerID.astype('string')"
      ]
    },
    {
      "cell_type": "code",
      "execution_count": 9,
      "id": "fe4d1856",
      "metadata": {
        "id": "fe4d1856",
        "outputId": "179e2f7d-3a18-4d66-d79c-70836aab10bc"
      },
      "outputs": [
        {
          "data": {
            "text/plain": [
              "string[python]"
            ]
          },
          "execution_count": 9,
          "metadata": {},
          "output_type": "execute_result"
        }
      ],
      "source": [
        "df.CustomerID.dtype"
      ]
    },
    {
      "cell_type": "code",
      "execution_count": 10,
      "id": "3d0382bf",
      "metadata": {
        "id": "3d0382bf",
        "outputId": "949a90ae-de55-436b-8f20-5ab7b97eae22"
      },
      "outputs": [
        {
          "data": {
            "text/plain": [
              "array(['Female', 'Male'], dtype=object)"
            ]
          },
          "execution_count": 10,
          "metadata": {},
          "output_type": "execute_result"
        }
      ],
      "source": [
        "df.Gender.unique()"
      ]
    },
    {
      "cell_type": "code",
      "execution_count": 11,
      "id": "4229b631",
      "metadata": {
        "id": "4229b631",
        "outputId": "f704fbae-c813-4a2f-869f-707aba85c48d"
      },
      "outputs": [
        {
          "data": {
            "text/plain": [
              "dtype('O')"
            ]
          },
          "execution_count": 11,
          "metadata": {},
          "output_type": "execute_result"
        }
      ],
      "source": [
        "df.Gender.dtype"
      ]
    },
    {
      "cell_type": "code",
      "execution_count": 12,
      "id": "a2e9c8bf",
      "metadata": {
        "id": "a2e9c8bf",
        "outputId": "a9915012-e741-463b-8c6e-df677211b7f8"
      },
      "outputs": [
        {
          "data": {
            "text/plain": [
              "2"
            ]
          },
          "execution_count": 12,
          "metadata": {},
          "output_type": "execute_result"
        }
      ],
      "source": [
        "len(df.Senior_Citizen.unique())"
      ]
    },
    {
      "cell_type": "code",
      "execution_count": 13,
      "id": "9d187f04",
      "metadata": {
        "id": "9d187f04"
      },
      "outputs": [],
      "source": [
        "df.Gender = df.Gender.astype('string')"
      ]
    },
    {
      "cell_type": "code",
      "execution_count": 14,
      "id": "1f36de6d",
      "metadata": {
        "id": "1f36de6d",
        "outputId": "59d85a7c-c7ea-41cf-b35e-39177168b138"
      },
      "outputs": [
        {
          "data": {
            "text/plain": [
              "string[python]"
            ]
          },
          "execution_count": 14,
          "metadata": {},
          "output_type": "execute_result"
        }
      ],
      "source": [
        "df.Gender.dtype"
      ]
    },
    {
      "cell_type": "code",
      "execution_count": 15,
      "id": "cb49b88d",
      "metadata": {
        "id": "cb49b88d",
        "outputId": "f981fd4c-1ef8-449c-813e-abcc311cc1d1"
      },
      "outputs": [
        {
          "data": {
            "text/plain": [
              "dtype('int64')"
            ]
          },
          "execution_count": 15,
          "metadata": {},
          "output_type": "execute_result"
        }
      ],
      "source": [
        "df.Senior_Citizen.dtype"
      ]
    },
    {
      "cell_type": "markdown",
      "metadata": {},
      "source": [
        "---> With the below code, we are converting the columns in the below code to String data type.\n"
      ]
    },
    {
      "cell_type": "code",
      "execution_count": 16,
      "id": "073fd383",
      "metadata": {
        "id": "073fd383"
      },
      "outputs": [],
      "source": [
        "df.Partner = df.Partner.astype('string')\n",
        "df.Dependents = df.Dependents.astype('string')\n",
        "df.Service_type = df.Service_type.astype('string')\n",
        "df.Multiple_Lines = df.Multiple_Lines.astype('string')\n",
        "df.Internet_Service_type = df.Internet_Service_type.astype('string')\n",
        "df.Online_Security = df.Online_Security.astype('string')\n",
        "df.Online_Backup = df.Online_Backup.astype('string')\n",
        "df.Device_Protection = df.Device_Protection.astype('string')\n",
        "df.Tech_Support = df.Tech_Support.astype('string')\n",
        "df.Streaming_TV = df.Streaming_TV.astype('string')\n",
        "df.Streaming_Movies = df.Streaming_Movies.astype('string')\n",
        "df.Contract = df.Contract.astype('string')\n",
        "df.Paperless_Billing = df.Paperless_Billing.astype('string')\n",
        "df.Payment_Method = df.Payment_Method.astype('string')\n",
        "df.Offer = df.Offer.astype('string')\n",
        "df.Upgraded_to_Unlimited_Data = df.Upgraded_to_Unlimited_Data.astype('string')\n",
        "df.Churn = df.Churn.astype('string')"
      ]
    },
    {
      "cell_type": "markdown",
      "metadata": {},
      "source": [
        "We are again looking at the summary of the dataset."
      ]
    },
    {
      "cell_type": "code",
      "execution_count": 17,
      "id": "820ff6e5",
      "metadata": {
        "id": "820ff6e5",
        "outputId": "d8d4ff54-8fbe-4244-eb62-5a6b85063bb6"
      },
      "outputs": [
        {
          "name": "stdout",
          "output_type": "stream",
          "text": [
            "<class 'pandas.core.frame.DataFrame'>\n",
            "RangeIndex: 7043 entries, 0 to 7042\n",
            "Data columns (total 28 columns):\n",
            " #   Column                             Non-Null Count  Dtype  \n",
            "---  ------                             --------------  -----  \n",
            " 0   CustomerID                         7043 non-null   string \n",
            " 1   Gender                             7043 non-null   string \n",
            " 2   Senior_Citizen                     7043 non-null   int64  \n",
            " 3   Partner                            7043 non-null   string \n",
            " 4   Dependents                         7043 non-null   string \n",
            " 5   Tenure                             7043 non-null   int64  \n",
            " 6   Service_type                       7043 non-null   string \n",
            " 7   Multiple_Lines                     7043 non-null   string \n",
            " 8   Internet_Service_type              7043 non-null   string \n",
            " 9   Online_Security                    7043 non-null   string \n",
            " 10  Online_Backup                      7043 non-null   string \n",
            " 11  Device_Protection                  7043 non-null   string \n",
            " 12  Tech_Support                       7043 non-null   string \n",
            " 13  Streaming_TV                       7043 non-null   string \n",
            " 14  Streaming_Movies                   7043 non-null   string \n",
            " 15  Contract                           7043 non-null   string \n",
            " 16  Paperless_Billing                  7043 non-null   string \n",
            " 17  Payment_Method                     7043 non-null   string \n",
            " 18  Monthly_Charges                    7043 non-null   float64\n",
            " 19  Total_Charges                      7043 non-null   float64\n",
            " 20  Number_of_Referrals                7043 non-null   int64  \n",
            " 21  Offer                              7043 non-null   string \n",
            " 22  Avg_Monthly_Long_Distance_Charges  7043 non-null   float64\n",
            " 23  Avg_Monthly_GB_Download            7043 non-null   int64  \n",
            " 24  Upgraded_to_Unlimited_Data         7043 non-null   string \n",
            " 25  Total_Long_Distance_Charges        7043 non-null   float64\n",
            " 26  Total_Revenue                      7043 non-null   float64\n",
            " 27  Churn                              7043 non-null   string \n",
            "dtypes: float64(5), int64(4), string(19)\n",
            "memory usage: 1.5 MB\n"
          ]
        }
      ],
      "source": [
        "df.info()"
      ]
    },
    {
      "cell_type": "code",
      "execution_count": 18,
      "id": "98305848",
      "metadata": {
        "id": "98305848"
      },
      "outputs": [
        {
          "name": "stdout",
          "output_type": "stream",
          "text": [
            "Online_Backup -----> <StringArray>\n",
            "['Yes', 'No', 'No internet service']\n",
            "Length: 3, dtype: string\n",
            "\n"
          ]
        }
      ],
      "source": [
        "print(\"Online_Backup -----> {}\\n\".format(df.Online_Backup.unique()))"
      ]
    },
    {
      "cell_type": "code",
      "execution_count": 19,
      "id": "87a620f9",
      "metadata": {
        "id": "87a620f9",
        "outputId": "6f2fb698-46e7-4d5a-de8e-d2b1923179de"
      },
      "outputs": [
        {
          "name": "stdout",
          "output_type": "stream",
          "text": [
            "Partner -----> <StringArray>\n",
            "['Yes', 'No']\n",
            "Length: 2, dtype: string\n",
            "\n",
            "Dependents -----> <StringArray>\n",
            "['Yes', 'No']\n",
            "Length: 2, dtype: string\n",
            "\n",
            "Service_type -----> <StringArray>\n",
            "['Phone Service', 'Internet Service']\n",
            "Length: 2, dtype: string\n",
            "\n",
            "Multiple_Lines -----> <StringArray>\n",
            "['No', 'Yes', 'No phone service']\n",
            "Length: 3, dtype: string\n",
            "\n",
            "Internet_Service_type -----> <StringArray>\n",
            "['Cable', 'Fiber Optic', 'DSL', 'No']\n",
            "Length: 4, dtype: string\n",
            "\n",
            "Online_Security -----> <StringArray>\n",
            "['No', 'Yes', 'No internet service']\n",
            "Length: 3, dtype: string\n",
            "\n",
            "Online_Backup -----> <StringArray>\n",
            "['Yes', 'No', 'No internet service']\n",
            "Length: 3, dtype: string\n",
            "\n",
            "Device_Protection -----> <StringArray>\n",
            "['No', 'Yes', 'No internet service']\n",
            "Length: 3, dtype: string\n",
            "\n",
            "Tech_Support -----> <StringArray>\n",
            "['Yes', 'No', 'No internet service']\n",
            "Length: 3, dtype: string\n",
            "\n",
            "Streaming_TV -----> <StringArray>\n",
            "['Yes', 'No', 'No internet service']\n",
            "Length: 3, dtype: string\n",
            "\n",
            "Streaming_Movies -----> <StringArray>\n",
            "['No', 'Yes', 'No internet service']\n",
            "Length: 3, dtype: string\n",
            "\n",
            "Contract -----> <StringArray>\n",
            "['One Year', 'Month-to-Month', 'Two Year']\n",
            "Length: 3, dtype: string\n",
            "\n",
            "Paperless_Billing -----> <StringArray>\n",
            "['Yes', 'No']\n",
            "Length: 2, dtype: string\n",
            "\n",
            "Payment_Method -----> <StringArray>\n",
            "[             'Mailed check',          'Electronic check',\n",
            "   'Credit card (automatic)', 'Bank transfer (automatic)']\n",
            "Length: 4, dtype: string\n",
            "\n",
            "Offer -----> <StringArray>\n",
            "['No', 'Offer E', 'Offer D', 'Offer A', 'Offer B', 'Offer C']\n",
            "Length: 6, dtype: string\n",
            "\n",
            "Upgraded_to_Unlimited_Data -----> <StringArray>\n",
            "['Yes', 'No', 'Phone customers']\n",
            "Length: 3, dtype: string\n",
            "\n",
            "Churn -----> <StringArray>\n",
            "['No', 'Yes']\n",
            "Length: 2, dtype: string\n",
            "\n"
          ]
        }
      ],
      "source": [
        "print(\"Partner -----> {}\\n\".format(df.Partner.unique()))\n",
        "print(\"Dependents -----> {}\\n\".format(df.Dependents.unique()))\n",
        "print(\"Service_type -----> {}\\n\".format(df.Service_type.unique()))\n",
        "print(\"Multiple_Lines -----> {}\\n\".format(df.Multiple_Lines.unique()))\n",
        "print(\"Internet_Service_type -----> {}\\n\".format(df.Internet_Service_type.unique()))\n",
        "print(\"Online_Security -----> {}\\n\".format(df.Online_Security.unique()))\n",
        "print(\"Online_Backup -----> {}\\n\".format(df.Online_Backup.unique()))\n",
        "print(\"Device_Protection -----> {}\\n\".format(df.Device_Protection.unique()))\n",
        "print(\"Tech_Support -----> {}\\n\".format(df.Tech_Support.unique()))\n",
        "print(\"Streaming_TV -----> {}\\n\".format(df.Streaming_TV.unique()))\n",
        "print(\"Streaming_Movies -----> {}\\n\".format(df.Streaming_Movies.unique()))\n",
        "print(\"Contract -----> {}\\n\".format(df.Contract.unique()))\n",
        "print(\"Paperless_Billing -----> {}\\n\".format(df.Paperless_Billing.unique()))\n",
        "print(\"Payment_Method -----> {}\\n\".format(df.Payment_Method.unique()))\n",
        "print(\"Offer -----> {}\\n\".format(df.Offer.unique()))\n",
        "print(\"Upgraded_to_Unlimited_Data -----> {}\\n\".format(df.Upgraded_to_Unlimited_Data.unique()))\n",
        "print(\"Churn -----> {}\\n\".format(df.Churn.unique()))"
      ]
    },
    {
      "cell_type": "markdown",
      "metadata": {},
      "source": [
        "# Descriptive statistics - a summary of the central tendency, dispersion, and shape of the distribution of numerical data"
      ]
    },
    {
      "cell_type": "code",
      "execution_count": 20,
      "id": "69685f1f",
      "metadata": {
        "id": "69685f1f",
        "outputId": "2139c636-1a72-4ffd-f1eb-8a6537b1e807"
      },
      "outputs": [
        {
          "data": {
            "text/plain": [
              "count    7043.000000\n",
              "mean       32.386767\n",
              "std        24.542061\n",
              "min         1.000000\n",
              "25%         9.000000\n",
              "50%        29.000000\n",
              "75%        55.000000\n",
              "max        72.000000\n",
              "Name: Tenure, dtype: float64"
            ]
          },
          "execution_count": 20,
          "metadata": {},
          "output_type": "execute_result"
        }
      ],
      "source": [
        "df.Tenure.describe()"
      ]
    },
    {
      "cell_type": "markdown",
      "metadata": {},
      "source": [
        "Highest tenure - 72 months\n",
        "median - 29 months\n",
        "Atleast 25% of the people "
      ]
    },
    {
      "cell_type": "code",
      "execution_count": 21,
      "id": "51e0a43f",
      "metadata": {
        "id": "51e0a43f",
        "outputId": "ae299327-8e18-4b7c-fdad-51a1e1422a3d"
      },
      "outputs": [
        {
          "data": {
            "text/plain": [
              "count    7043.000000\n",
              "mean     2280.381264\n",
              "std      2266.220462\n",
              "min        18.800000\n",
              "25%       400.150000\n",
              "50%      1394.550000\n",
              "75%      3786.600000\n",
              "max      8684.800000\n",
              "Name: Total_Charges, dtype: float64"
            ]
          },
          "execution_count": 21,
          "metadata": {},
          "output_type": "execute_result"
        }
      ],
      "source": [
        "df.Total_Charges.describe()"
      ]
    },
    {
      "cell_type": "code",
      "execution_count": 22,
      "id": "b4363027",
      "metadata": {
        "id": "b4363027",
        "outputId": "9b30f1bc-257a-41b7-a092-a81aa42a1d52"
      },
      "outputs": [
        {
          "data": {
            "text/plain": [
              "count    7043.000000\n",
              "mean       64.761692\n",
              "std        30.090047\n",
              "min        18.250000\n",
              "25%        35.500000\n",
              "50%        70.350000\n",
              "75%        89.850000\n",
              "max       118.750000\n",
              "Name: Monthly_Charges, dtype: float64"
            ]
          },
          "execution_count": 22,
          "metadata": {},
          "output_type": "execute_result"
        }
      ],
      "source": [
        "df.Monthly_Charges.describe()"
      ]
    },
    {
      "cell_type": "markdown",
      "id": "d966608f",
      "metadata": {
        "id": "d966608f"
      },
      "source": [
        "# Distribution plot - categorical variables"
      ]
    },
    {
      "cell_type": "markdown",
      "id": "0dd45632",
      "metadata": {
        "id": "0dd45632"
      },
      "source": [
        "# Gender"
      ]
    },
    {
      "cell_type": "code",
      "execution_count": 24,
      "id": "b2cbc1f4",
      "metadata": {
        "id": "b2cbc1f4",
        "outputId": "6a954330-fcfa-40fd-8b3b-b719ce730f21"
      },
      "outputs": [
        {
          "data": {
            "image/png": "[encoded data removed]",
            "text/plain": [
              "<Figure size 500x500 with 1 Axes>"
            ]
          },
          "metadata": {},
          "output_type": "display_data"
        }
      ],
      "source": [
        "plt.figure(figsize=(5,5))\n",
        "ax = sns.countplot(x=df['Senior_Citizen'],\n",
        "                   order=df['Senior_Citizen'].value_counts(ascending=False).index, palette = 'rainbow');\n",
        "\n",
        "abs_values = df['Senior_Citizen'].value_counts(ascending=False).values\n",
        "\n",
        "ax.bar_label(container=ax.containers[0], labels=abs_values)\n",
        "plt.show()"
      ]
    },
    {
      "cell_type": "code",
      "execution_count": 25,
      "id": "fb9c036f",
      "metadata": {
        "id": "fb9c036f",
        "outputId": "b994d362-c298-450a-e154-402f12d07bf8"
      },
      "outputs": [
        {
          "data": {
            "image/png": "[encoded data removed]",
            "text/plain": [
              "<Figure size 500x500 with 1 Axes>"
            ]
          },
          "metadata": {},
          "output_type": "display_data"
        }
      ],
      "source": [
        "plt.figure(figsize=(5,5))\n",
        "ax = sns.countplot(x=df['Partner'],\n",
        "                   order=df['Partner'].value_counts(ascending=False).index, palette = 'rainbow');\n",
        "\n",
        "abs_values = df['Partner'].value_counts(ascending=False).values\n",
        "\n",
        "ax.bar_label(container=ax.containers[0], labels=abs_values)\n",
        "plt.show()"
      ]
    },
    {
      "cell_type": "code",
      "execution_count": 28,
      "id": "28cc7dcf",
      "metadata": {
        "id": "28cc7dcf",
        "outputId": "51a0796a-04ed-461a-ff34-aaf39d196814"
      },
      "outputs": [
        {
          "data": {
            "image/png": "[encoded data removed]",
            "text/plain": [
              "<Figure size 500x500 with 1 Axes>"
            ]
          },
          "metadata": {},
          "output_type": "display_data"
        }
      ],
      "source": [
        "plt.figure(figsize=(5,5))\n",
        "ax = sns.countplot(x=df['Multiple_Lines'],\n",
        "                   order=df['Multiple_Lines'].value_counts(ascending=False).index, palette = 'rainbow');\n",
        "\n",
        "abs_values = df['Multiple_Lines'].value_counts(ascending=False).values\n",
        "\n",
        "ax.bar_label(container=ax.containers[0], labels=abs_values)\n",
        "plt.show()"
      ]
    },
    {
      "cell_type": "code",
      "execution_count": null,
      "id": "7fc04e96",
      "metadata": {
        "id": "7fc04e96"
      },
      "outputs": [],
      "source": [
        "data"
      ]
    },
    {
      "cell_type": "markdown",
      "id": "278e322e",
      "metadata": {
        "id": "278e322e"
      },
      "source": [
        "# One hot encoding"
      ]
    },
    {
      "cell_type": "code",
      "execution_count": null,
      "id": "442b3cf0",
      "metadata": {
        "id": "442b3cf0"
      },
      "outputs": [],
      "source": [
        "import pandas as pd\n",
        "\n",
        "# perform one-hot encoding\n",
        "df_encoded = pd.get_dummies(data.Contract, columns=[\"Contract\"])\n",
        "\n",
        "print(df_encoded)"
      ]
    },
    {
      "cell_type": "code",
      "execution_count": null,
      "id": "740a3875",
      "metadata": {
        "id": "740a3875"
      },
      "outputs": [],
      "source": [
        "data"
      ]
    },
    {
      "cell_type": "code",
      "execution_count": null,
      "id": "616aa817",
      "metadata": {
        "id": "616aa817"
      },
      "outputs": [],
      "source": [
        "data_new = data.join(df_encoded)"
      ]
    },
    {
      "cell_type": "code",
      "execution_count": null,
      "id": "00215162",
      "metadata": {
        "id": "00215162"
      },
      "outputs": [],
      "source": [
        "data_new"
      ]
    },
    {
      "cell_type": "code",
      "execution_count": null,
      "id": "da3b87c0",
      "metadata": {
        "id": "da3b87c0"
      },
      "outputs": [],
      "source": [
        "data_new = data_new.drop('Contract', axis=1)"
      ]
    },
    {
      "cell_type": "code",
      "execution_count": null,
      "id": "c4fa16f6",
      "metadata": {
        "id": "c4fa16f6"
      },
      "outputs": [],
      "source": [
        "data_new"
      ]
    },
    {
      "cell_type": "code",
      "execution_count": null,
      "id": "d8ebfd56",
      "metadata": {
        "id": "d8ebfd56"
      },
      "outputs": [],
      "source": [
        "\n",
        "target = target.map({'No' : 0, 'Yes' : 1})"
      ]
    },
    {
      "cell_type": "code",
      "execution_count": null,
      "id": "86d6c6c7",
      "metadata": {
        "id": "86d6c6c7"
      },
      "outputs": [],
      "source": [
        "target"
      ]
    },
    {
      "cell_type": "code",
      "execution_count": null,
      "id": "f1d60375",
      "metadata": {
        "id": "f1d60375"
      },
      "outputs": [],
      "source": [
        "data_new = data_new.drop('CustomerID', axis=1)"
      ]
    },
    {
      "cell_type": "code",
      "execution_count": null,
      "id": "91bf31bb",
      "metadata": {
        "id": "91bf31bb"
      },
      "outputs": [],
      "source": [
        "x = data_new\n",
        "y = target"
      ]
    },
    {
      "cell_type": "code",
      "execution_count": null,
      "id": "e8aa86c0",
      "metadata": {
        "id": "e8aa86c0"
      },
      "outputs": [],
      "source": [
        "x"
      ]
    },
    {
      "cell_type": "markdown",
      "id": "a2ee48b7",
      "metadata": {
        "id": "a2ee48b7"
      },
      "source": [
        "# Logistic regression"
      ]
    },
    {
      "cell_type": "code",
      "execution_count": null,
      "id": "62ac314a",
      "metadata": {
        "id": "62ac314a"
      },
      "outputs": [],
      "source": [
        "# Scaling all the variables to a range of 0 to 1\n",
        "from sklearn.preprocessing import MinMaxScaler\n",
        "features = x.columns.values\n",
        "scaler = MinMaxScaler(feature_range = (0,1))\n",
        "scaler.fit(x)\n",
        "x = pd.DataFrame(scaler.transform(x))\n",
        "x.columns = features"
      ]
    },
    {
      "cell_type": "code",
      "execution_count": null,
      "id": "3fa1c597",
      "metadata": {
        "id": "3fa1c597"
      },
      "outputs": [],
      "source": [
        "# Create Train & Test Data\n",
        "from sklearn.model_selection import train_test_split\n",
        "x_train, x_test, y_train, y_test = train_test_split(x, y, test_size=0.2, random_state=101)"
      ]
    },
    {
      "cell_type": "code",
      "execution_count": null,
      "id": "5d41a77d",
      "metadata": {
        "id": "5d41a77d"
      },
      "outputs": [],
      "source": [
        "# Running logistic regression model\n",
        "from sklearn.linear_model import LogisticRegression\n",
        "model = LogisticRegression()\n",
        "result = model.fit(x_train, y_train)"
      ]
    },
    {
      "cell_type": "code",
      "execution_count": null,
      "id": "fa9c2e27",
      "metadata": {
        "id": "fa9c2e27"
      },
      "outputs": [],
      "source": [
        "from sklearn import metrics\n",
        "prediction_test = model.predict(x_test)\n",
        "# Print the prediction accuracy\n",
        "print (metrics.accuracy_score(y_test, prediction_test))"
      ]
    },
    {
      "cell_type": "code",
      "execution_count": null,
      "id": "2bcf45d1",
      "metadata": {
        "id": "2bcf45d1"
      },
      "outputs": [],
      "source": [
        "# To get the weights of all the variables\n",
        "weights = pd.Series(model.coef_[0],\n",
        "                 index=x.columns.values)\n",
        "print (weights.sort_values(ascending = False)[:10].plot(kind='bar'))"
      ]
    },
    {
      "cell_type": "code",
      "execution_count": null,
      "id": "5a6e60b3",
      "metadata": {
        "id": "5a6e60b3"
      },
      "outputs": [],
      "source": [
        "print(weights.sort_values(ascending = False)[-10:].plot(kind='bar'))"
      ]
    },
    {
      "cell_type": "markdown",
      "id": "613bf0ea",
      "metadata": {
        "id": "613bf0ea"
      },
      "source": [
        "# Decision tree"
      ]
    },
    {
      "cell_type": "code",
      "execution_count": null,
      "id": "52688576",
      "metadata": {
        "id": "52688576"
      },
      "outputs": [],
      "source": [
        "# Load libraries\n",
        "import pandas as pd\n",
        "from sklearn.tree import DecisionTreeClassifier # Import Decision Tree Classifier\n",
        "from sklearn.model_selection import train_test_split # Import train_test_split function\n",
        "from sklearn import metrics #Import scikit-learn metrics module for accuracy calculation\n",
        "from sklearn.preprocessing import StandardScaler"
      ]
    },
    {
      "cell_type": "code",
      "execution_count": null,
      "id": "d7fae487",
      "metadata": {
        "id": "d7fae487"
      },
      "outputs": [],
      "source": [
        "\n",
        "y_dt = target"
      ]
    },
    {
      "cell_type": "code",
      "execution_count": null,
      "id": "21c5f734",
      "metadata": {
        "id": "21c5f734"
      },
      "outputs": [],
      "source": [
        "sta = StandardScaler()\n",
        "x_dt = sta.fit_transform(data_new)\n",
        "print(x_dt)"
      ]
    },
    {
      "cell_type": "code",
      "execution_count": null,
      "id": "442f245d",
      "metadata": {
        "id": "442f245d"
      },
      "outputs": [],
      "source": [
        "# Split dataset into training set and test set\n",
        "x_dt_train, x_dt_test, y_dt_train, y_dt_test = train_test_split(x_dt, y_dt, test_size=0.2, random_state=42) # 70% training and 30% test\n"
      ]
    },
    {
      "cell_type": "code",
      "execution_count": null,
      "id": "877db2b2",
      "metadata": {
        "id": "877db2b2"
      },
      "outputs": [],
      "source": [
        "# Create Decision Tree classifer object\n",
        "clf = DecisionTreeClassifier()\n",
        "\n",
        "# Train Decision Tree Classifer\n",
        "clf = clf.fit(x_dt_train,y_dt_train)\n",
        "\n",
        "#Predict the response for test dataset\n",
        "y_dt_pred = clf.predict(x_dt_test)"
      ]
    },
    {
      "cell_type": "code",
      "execution_count": null,
      "id": "eec553ed",
      "metadata": {
        "id": "eec553ed"
      },
      "outputs": [],
      "source": [
        "# Model Accuracy, how often is the classifier correct?\n",
        "print(\"Accuracy:\",metrics.accuracy_score(y_dt_test, y_dt_pred))"
      ]
    },
    {
      "cell_type": "code",
      "execution_count": null,
      "id": "bebe7305",
      "metadata": {
        "id": "bebe7305"
      },
      "outputs": [],
      "source": [
        "from sklearn.tree import export_graphviz\n",
        "from six import StringIO\n",
        "from IPython.display import Image\n",
        "import pydotplus\n",
        "\n",
        "dot_data = StringIO()\n",
        "export_graphviz(clf, out_file=dot_data,\n",
        "                filled=True, rounded=True,\n",
        "                special_characters=True,feature_names = feature_cols,class_names=['0','1'])\n",
        "graph = pydotplus.graph_from_dot_data(dot_data.getvalue())\n",
        "graph.write_png('churn.png')\n",
        "Image(graph.create_png())\n"
      ]
    },
    {
      "cell_type": "code",
      "execution_count": null,
      "id": "9507b285",
      "metadata": {
        "id": "9507b285"
      },
      "outputs": [],
      "source": [
        "\n",
        "\n",
        "from sklearn.decomposition import PCA\n",
        "\n",
        "pca = PCA(0.95)\n",
        "X_pca = pca.fit_transform(x_dt)\n",
        "X_pca.shape\n",
        "\n"
      ]
    }
  ],
  "metadata": {
    "colab": {
      "provenance": []
    },
    "kernelspec": {
      "display_name": "Python 3 (ipykernel)",
      "language": "python",
      "name": "python3"
    },
    "language_info": {
      "codemirror_mode": {
        "name": "ipython",
        "version": 3
      },
      "file_extension": ".py",
      "mimetype": "text/x-python",
      "name": "python",
      "nbconvert_exporter": "python",
      "pygments_lexer": "ipython3",
      "version": "3.11.4"
    }
  },
  "nbformat": 4,
  "nbformat_minor": 5
}
